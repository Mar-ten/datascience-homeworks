{
 "cells": [
  {
   "cell_type": "markdown",
   "metadata": {},
   "source": [
    "### Introduction to Data Science - Homework 5\n",
    "*CS 5963 / MATH 3900, University of Utah, http://datasciencecourse.net/*\n",
    "\n",
    "Due: Friday, October 28, 11:59pm.\n",
    "\n",
    "In this homework, you will (i) scrape happy data about happy hours in various restaurants and bars from a website and (ii) use classification tools to predict the popularity of online news."
   ]
  },
  {
   "cell_type": "markdown",
   "metadata": {},
   "source": [
    "## Your Data\n",
    "Fill out the following information: \n",
    "\n",
    "*First Name:* Martin  \n",
    "*Last Name:*   Raming\n",
    "*E-mail:*   martin.raming@utah.edu\n",
    "*UID:*  u0228111\n"
   ]
  },
  {
   "cell_type": "markdown",
   "metadata": {},
   "source": [
    "## Part 1: Scrape SLC happy hour data\n",
    "\n",
    "In this part, you'll explore happy hours close to Salt Lake City. Unfortunately, you'll probably have to drive a bit, since Utah doesn't do happy hours. Nevertheless, hopefully you'll get an idea for a great location for your next party!\n",
    "\n",
    "You're going to scrape [The Happy Hour Finder](http://thehappyhourfinder.com/us_ut/salt-lake-city/).\n",
    "\n",
    "### Task 1.1 Check whether you are permitted to scrape the data. \n",
    "\n",
    "Investigate the terms and services of the website and see whether there is a `robots.txt` file, and if so, if it permits you to scrape the website. Make sure you are allowed to scrape this website. Are you?"
   ]
  },
  {
   "cell_type": "markdown",
   "metadata": {},
   "source": [
    "**Your determination:** TODO"
   ]
  },
  {
   "cell_type": "markdown",
   "metadata": {},
   "source": [
    "### Task 1.2 Download the website\n",
    "\n",
    "To avoid sending too many requests to the server download the html file using python and save it locally on your machine while you are developing. You should then only access the downloaded html.\n",
    "\n",
    "The website allows us to specify a search. Ignore this and just scrape the default happy hours shown (today's happy hours). "
   ]
  },
  {
   "cell_type": "code",
   "execution_count": 2,
   "metadata": {
    "collapsed": false
   },
   "outputs": [],
   "source": [
    "# imports and setup \n",
    "\n",
    "from bs4 import BeautifulSoup\n",
    "import urllib.request\n",
    "import pandas as pd\n",
    "import numpy as np\n",
    "\n",
    "import matplotlib.pyplot as plt\n",
    "%matplotlib inline\n",
    "plt.rcParams['figure.figsize'] = (10, 6)\n",
    "plt.style.use('ggplot')"
   ]
  },
  {
   "cell_type": "code",
   "execution_count": 3,
   "metadata": {
    "collapsed": false
   },
   "outputs": [
    {
     "data": {
      "text/plain": [
       "[<div class=\"row-fluid content\">\n",
       " <div class=\"span8 left-column\">\n",
       " <div class=\"well\">\n",
       " <h4>All Happy Hours in Salt Lake City, UT </h4>\n",
       " <div class=\"social-buttons\">\n",
       " <!-- AddThis Button BEGIN -->\n",
       " <div class=\"addthis_toolbox addthis_default_style \">\n",
       " <a class=\"addthis_button_facebook_like\" fb:like:layout=\"button_count\"></a>\n",
       " <a class=\"addthis_button_tweet\"></a>\n",
       " <a class=\"addthis_button_pinterest_pinit\"></a>\n",
       " <a class=\"addthis_counter addthis_pill_style\"></a>\n",
       " </div>\n",
       " <!--script type=\"text/javascript\">var addthis_config = {\"data_track_addressbar\":true};</script-->\n",
       " <script src=\"//s7.addthis.com/js/300/addthis_widget.js#pubid=ra-520201cd67fcd783\" type=\"text/javascript\"></script>\n",
       " <!-- AddThis Button END -->\n",
       " </div>\n",
       " <br/>\n",
       " <div class=\"hh-list\">\n",
       " <div class=\"simple-business\">\n",
       " <h4>520 miles</h4>\n",
       " <ul>\n",
       " <li class=\"row\">\n",
       " <div class=\"span2 image-block\">\n",
       " <a href=\"/us_mn/orem/pf-changs-china-bistro-45/\">\n",
       " <div>\n",
       " <img alt=\"P.F. Chang's China Bistro\" src=\"/static/img/default_business.png\">\n",
       " </img></div>\n",
       " </a>\n",
       " </div>\n",
       " <div class=\"span8 hh-description\">\n",
       " <a href=\"/us_mn/orem/pf-changs-china-bistro-45/\">\n",
       " <h5>P.F. Chang's China Bistro<br/></h5>\n",
       " </a>\n",
       "                         3:00pm - 6:00pm: discount appetizers\n",
       "                     </div>\n",
       " <div class=\"clearfix\"></div>\n",
       " </li>\n",
       " <li class=\"row\">\n",
       " <div class=\"span2 image-block\">\n",
       " <a href=\"/us_id/twin-falls/canyon-crest-dining-event-center/\">\n",
       " <div>\n",
       " <img alt=\"Canyon Crest Dining &amp; Event Center\" src=\"/static/img/default_business.png\">\n",
       " </img></div>\n",
       " </a>\n",
       " </div>\n",
       " <div class=\"span8 hh-description\">\n",
       " <a href=\"/us_id/twin-falls/canyon-crest-dining-event-center/\">\n",
       " <h5>Canyon Crest Dining &amp; Event Center<br/></h5>\n",
       " </a>\n",
       "                         3:00pm - 6:00pm: 1/2 off appetizers $1.00 off drinks\n",
       "                     </div>\n",
       " <div class=\"clearfix\"></div>\n",
       " </li>\n",
       " <li class=\"row\">\n",
       " <div class=\"span2 image-block\">\n",
       " <a href=\"/us_id/idaho-falls/texas-roadhouse-restaurant-141/\">\n",
       " <div>\n",
       " <img alt=\"Texas Roadhouse Restaurant\" src=\"/static/img/default_business.png\">\n",
       " </img></div>\n",
       " </a>\n",
       " </div>\n",
       " <div class=\"span8 hh-description\">\n",
       " <a href=\"/us_id/idaho-falls/texas-roadhouse-restaurant-141/\">\n",
       " <h5>Texas Roadhouse Restaurant<br/></h5>\n",
       " </a>\n",
       "                         All Day: $3. 50 coors light, budlight\n",
       "                     </div>\n",
       " <div class=\"clearfix\"></div>\n",
       " </li>\n",
       " <li class=\"row\">\n",
       " <div class=\"span2 image-block\">\n",
       " <a href=\"/us_wy/jackson/rendezvous-bistro/\">\n",
       " <div>\n",
       " <img alt=\"Rendezvous Bistro\" src=\"/static/img/default_business.png\">\n",
       " </img></div>\n",
       " </a>\n",
       " </div>\n",
       " <div class=\"span8 hh-description\">\n",
       " <a href=\"/us_wy/jackson/rendezvous-bistro/\">\n",
       " <h5>Rendezvous Bistro<br/></h5>\n",
       " </a>\n",
       "                         5:30pm - 6:30pm: Half off select drinks at the bar\n",
       "                     </div>\n",
       " <div class=\"clearfix\"></div>\n",
       " </li>\n",
       " <li class=\"row\">\n",
       " <div class=\"span2 image-block\">\n",
       " <a href=\"/us_wy/jackson/snake-river-brewery/\">\n",
       " <div>\n",
       " <img alt=\"Snake River Brewery\" src=\"/static/img/default_business.png\">\n",
       " </img></div>\n",
       " </a>\n",
       " </div>\n",
       " <div class=\"span8 hh-description\">\n",
       " <a href=\"/us_wy/jackson/snake-river-brewery/\">\n",
       " <h5>Snake River Brewery<br/></h5>\n",
       " </a>\n",
       "                         4:00pm - 6:00pm: Discounted apps, $1 off pints.\n",
       "                     </div>\n",
       " <div class=\"clearfix\"></div>\n",
       " </li>\n",
       " <li class=\"row\">\n",
       " <div class=\"span2 image-block\">\n",
       " <a href=\"/us_wy/jackson/pizzeria-caldera/\">\n",
       " <div>\n",
       " <img alt=\"Pizzeria Caldera\" src=\"/static/img/default_business.png\">\n",
       " </img></div>\n",
       " </a>\n",
       " </div>\n",
       " <div class=\"span8 hh-description\">\n",
       " <a href=\"/us_wy/jackson/pizzeria-caldera/\">\n",
       " <h5>Pizzeria Caldera<br/></h5>\n",
       " </a>\n",
       "                         4:00pm - 6:00pm: $5 slice and a beer.\n",
       "                     </div>\n",
       " <div class=\"clearfix\"></div>\n",
       " </li>\n",
       " <li class=\"row\">\n",
       " <div class=\"span2 image-block\">\n",
       " <a href=\"/us_wy/jackson-hole/the-rose/\">\n",
       " <div>\n",
       " <img alt=\"The Rose\" src=\"/static/img/default_business.png\">\n",
       " </img></div>\n",
       " </a>\n",
       " </div>\n",
       " <div class=\"span8 hh-description\">\n",
       " <a href=\"/us_wy/jackson-hole/the-rose/\">\n",
       " <h5>The Rose<br/></h5>\n",
       " </a>\n",
       "                         5:00pm - 8:00pm: Speciality Cocktails from $5-$6, very unique drinks.\n",
       "                     </div>\n",
       " <div class=\"clearfix\"></div>\n",
       " </li>\n",
       " <li class=\"row\">\n",
       " <div class=\"span2 image-block\">\n",
       " <a href=\"/us_wy/jackson/pinky-gs-pizzeria/\">\n",
       " <div>\n",
       " <img alt=\"Pinky G's Pizzeria\" src=\"/static/img/default_business.png\">\n",
       " </img></div>\n",
       " </a>\n",
       " </div>\n",
       " <div class=\"span8 hh-description\">\n",
       " <a href=\"/us_wy/jackson/pinky-gs-pizzeria/\">\n",
       " <h5>Pinky G's Pizzeria<br/></h5>\n",
       " </a>\n",
       "                         11:00am - 4:00pm: Slice and a tall boy $5.  Tall boy and a shot $5.\n",
       "                     </div>\n",
       " <div class=\"clearfix\"></div>\n",
       " </li>\n",
       " <li class=\"row\">\n",
       " <div class=\"span2 image-block\">\n",
       " <a href=\"/us_wy/jackson-hole/silver-dollar-bar-grill-wort-hotel/\">\n",
       " <div>\n",
       " <img alt=\"Silver Dollar Bar &amp; Grill (Wort Hotel)\" src=\"/static/img/default_business.png\">\n",
       " </img></div>\n",
       " </a>\n",
       " </div>\n",
       " <div class=\"span8 hh-description\">\n",
       " <a href=\"/us_wy/jackson-hole/silver-dollar-bar-grill-wort-hotel/\">\n",
       " <h5>Silver Dollar Bar &amp; Grill (Wort Hotel)<br/></h5>\n",
       " </a>\n",
       "                         4:00pm - 7:00pm: $1 Off House Wine, Beer &amp; Superior Brand Well Drinks\n",
       "                     </div>\n",
       " <div class=\"clearfix\"></div>\n",
       " </li>\n",
       " <li class=\"row\">\n",
       " <div class=\"span2 image-block\">\n",
       " <a href=\"/us_wy/jackson-hole/town-square-tavern-1/\">\n",
       " <div>\n",
       " <img alt=\"Town Square Tavern\" src=\"/static/img/default_business.png\">\n",
       " </img></div>\n",
       " </a>\n",
       " </div>\n",
       " <div class=\"span8 hh-description\">\n",
       " <a href=\"/us_wy/jackson-hole/town-square-tavern-1/\">\n",
       " <h5>Town Square Tavern<br/></h5>\n",
       " </a>\n",
       "                         7:00pm - 9:00pm: Extensive $3 drink menu\n",
       "                     </div>\n",
       " <div class=\"clearfix\"></div>\n",
       " </li>\n",
       " <li class=\"row\">\n",
       " <div class=\"span2 image-block\">\n",
       " <a href=\"/us_wy/jackson/vom-fass/\">\n",
       " <div>\n",
       " <img alt=\"Vom FASS\" src=\"/static/img/default_business.png\">\n",
       " </img></div>\n",
       " </a>\n",
       " </div>\n",
       " <div class=\"span8 hh-description\">\n",
       " <a href=\"/us_wy/jackson/vom-fass/\">\n",
       " <h5>Vom FASS<br/></h5>\n",
       " </a>\n",
       "                         8:00am - 8:00pm: Free tastings of fine hand made liqueurs and artisinal spirits.\n",
       "                     </div>\n",
       " <div class=\"clearfix\"></div>\n",
       " </li>\n",
       " <li class=\"row\">\n",
       " <div class=\"span2 image-block\">\n",
       " <a href=\"/us_wy/jackson/nanis-cucina-italiana/\">\n",
       " <div>\n",
       " <img alt=\"Nanis Cucina Italiana\" src=\"/static/img/default_business.png\">\n",
       " </img></div>\n",
       " </a>\n",
       " </div>\n",
       " <div class=\"span8 hh-description\">\n",
       " <a href=\"/us_wy/jackson/nanis-cucina-italiana/\">\n",
       " <h5>Nanis Cucina Italiana<br/></h5>\n",
       " </a>\n",
       "                         9:00pm - 10:00pm: 2 for 1 cocktails.\n",
       "                     </div>\n",
       " <div class=\"clearfix\"></div>\n",
       " </li>\n",
       " <li class=\"row\">\n",
       " <div class=\"span2 image-block\">\n",
       " <a href=\"/us/wilson/teton-pines-country-club/\">\n",
       " <div>\n",
       " <img alt=\"Teton Pines Country Club\" src=\"/static/img/default_business.png\">\n",
       " </img></div>\n",
       " <br/>\n",
       " <div>\n",
       " <img src=\"/static/img/badge.png\">\n",
       " </img></div>\n",
       " </a>\n",
       " </div>\n",
       " <div class=\"span8 hh-description\">\n",
       " <a href=\"/us/wilson/teton-pines-country-club/\">\n",
       " <h5>Teton Pines Country Club<br/></h5>\n",
       " </a>\n",
       " </div>\n",
       " <div class=\"clearfix\"></div>\n",
       " </li>\n",
       " <li class=\"row\">\n",
       " <div class=\"span2 image-block\">\n",
       " <a href=\"/us/wilson-wy/teton-pines-lounge/\">\n",
       " <div>\n",
       " <img alt=\"Teton Pines Lounge\" src=\"/static/img/default_business.png\">\n",
       " </img></div>\n",
       " <br/>\n",
       " <div>\n",
       " <img src=\"/static/img/badge.png\">\n",
       " </img></div>\n",
       " </a>\n",
       " </div>\n",
       " <div class=\"span8 hh-description\">\n",
       " <a href=\"/us/wilson-wy/teton-pines-lounge/\">\n",
       " <h5>Teton Pines Lounge<br/></h5>\n",
       " </a>\n",
       "                         6:00pm - 9:00pm: Ladies Night 50% off drinks for ladies all evening.\n",
       "                     </div>\n",
       " <div class=\"clearfix\"></div>\n",
       " </li>\n",
       " <li class=\"row\">\n",
       " <div class=\"span2 image-block\">\n",
       " <a href=\"/us_co/grand-junction/applebees-neighborhood-grill-259/\">\n",
       " <div>\n",
       " <img alt=\"Applebees Neighborhood Grill\" src=\"/static/img/default_business.png\">\n",
       " </img></div>\n",
       " </a>\n",
       " </div>\n",
       " <div class=\"span8 hh-description\">\n",
       " <a href=\"/us_co/grand-junction/applebees-neighborhood-grill-259/\">\n",
       " <h5>Applebees Neighborhood Grill<br/></h5>\n",
       " </a>\n",
       "                         3:00pm - 6:00pm: &amp; 9pm- Closed half off on appetizers, discount on drinks\n",
       "                     </div>\n",
       " <div class=\"clearfix\"></div>\n",
       " </li>\n",
       " <li class=\"row\">\n",
       " <div class=\"span2 image-block\">\n",
       " <a href=\"/us_co/grand-junction/ale-house/\">\n",
       " <div>\n",
       " <img alt=\"Ale House\" src=\"/static/img/default_business.png\">\n",
       " </img></div>\n",
       " </a>\n",
       " </div>\n",
       " <div class=\"span8 hh-description\">\n",
       " <a href=\"/us_co/grand-junction/ale-house/\">\n",
       " <h5>Ale House<br/></h5>\n",
       " </a>\n",
       " </div>\n",
       " <div class=\"clearfix\"></div>\n",
       " </li>\n",
       " <li class=\"row\">\n",
       " <div class=\"span2 image-block\">\n",
       " <a href=\"/us_wy/alta/branding-iron-grill/\">\n",
       " <div>\n",
       " <img alt=\"Branding Iron Grill\" src=\"/static/img/default_business.png\">\n",
       " </img></div>\n",
       " </a>\n",
       " </div>\n",
       " <div class=\"span8 hh-description\">\n",
       " <a href=\"/us_wy/alta/branding-iron-grill/\">\n",
       " <h5>Branding Iron Grill<br/></h5>\n",
       " </a>\n",
       "                         3:00pm - 5:00pm: $3 draft local microbrews and extensive apres food menu\n",
       "                     </div>\n",
       " <div class=\"clearfix\"></div>\n",
       " </li>\n",
       " <li class=\"row\">\n",
       " <div class=\"span2 image-block\">\n",
       " <a href=\"/us_wy/alta/trap-bar/\">\n",
       " <div>\n",
       " <img alt=\"Trap Bar\" src=\"/static/img/default_business.png\">\n",
       " </img></div>\n",
       " </a>\n",
       " </div>\n",
       " <div class=\"span8 hh-description\">\n",
       " <a href=\"/us_wy/alta/trap-bar/\">\n",
       " <h5>Trap Bar<br/></h5>\n",
       " </a>\n",
       "                         3:00pm - 6:00pm: 10 sizzling wings $6\n",
       "                     </div>\n",
       " <div class=\"clearfix\"></div>\n",
       " </li>\n",
       " <li class=\"row\">\n",
       " <div class=\"span2 image-block\">\n",
       " <a href=\"/us_id/boise/lucky-13-pizza/\">\n",
       " <div>\n",
       " <img alt=\"Lucky 13 Pizza\" src=\"/static/img/default_business.png\">\n",
       " </img></div>\n",
       " </a>\n",
       " </div>\n",
       " <div class=\"span8 hh-description\">\n",
       " <a href=\"/us_id/boise/lucky-13-pizza/\">\n",
       " <h5>Lucky 13 Pizza<br/></h5>\n",
       " </a>\n",
       "                         4:00pm - 6:30pm: $2 draft beers\n",
       "                     </div>\n",
       " <div class=\"clearfix\"></div>\n",
       " </li>\n",
       " <li class=\"row\">\n",
       " <div class=\"span2 image-block\">\n",
       " <a href=\"/us_id/boise/tavern-at-bown-crossing/\">\n",
       " <div>\n",
       " <img alt=\"Tavern at Bown Crossing\" src=\"/static/img/default_business.png\">\n",
       " </img></div>\n",
       " </a>\n",
       " </div>\n",
       " <div class=\"span8 hh-description\">\n",
       " <a href=\"/us_id/boise/tavern-at-bown-crossing/\">\n",
       " <h5>Tavern at Bown Crossing<br/></h5>\n",
       " </a>\n",
       "                         12:00pm - 5:00pm: $2 - $5 potato skins, chicken skewers, quesadillas, california rolls $1 off draft beers\n",
       "                     </div>\n",
       " <div class=\"clearfix\"></div>\n",
       " </li>\n",
       " </ul>\n",
       " </div>\n",
       " </div>\n",
       " </div>\n",
       " </div>\n",
       " <div class=\"span4 right-column\">\n",
       " <div class=\"well\" style=\"text-align: center;\">\n",
       " <!-- Side-Medium-Rectangle -->\n",
       " <div id=\"div-gpt-ad-1424545737136-0\" style=\"width:300px; height:250px;\">\n",
       " <script type=\"text/javascript\">\n",
       " \t\tgoogletag.cmd.push(function() { googletag.display('div-gpt-ad-1424545737136-0'); });\n",
       " \t</script>\n",
       " </div>\n",
       " </div>\n",
       " </div>\n",
       " </div>]"
      ]
     },
     "execution_count": 3,
     "metadata": {},
     "output_type": "execute_result"
    }
   ],
   "source": [
    "# Your code here\n",
    "address = 'http://thehappyhourfinder.com/us_ut/salt-lake-city/'\n",
    "with urllib.request.urlopen(address) as response:\n",
    "     html = response.read()\n",
    "soup = BeautifulSoup(html, 'html.parser')\n",
    "soup.select(\".content\")"
   ]
  },
  {
   "cell_type": "markdown",
   "metadata": {},
   "source": [
    "### Task 1.3 Create a dataframe\n",
    "We want to know what day of the week and what time of the day is the most popular day for happy hours.\n",
    "Create a pandas dataframe that includes the name of the bar, a binary entry for each day of the week indicating whether it has a happy hour that day or not.\n",
    "\n",
    "Also add a link to the website in each row.\n",
    "\n",
    "Hint: use css selectors to find the information you are looking for. You will also need to retrieve information from nested sites such as [this one](http://thehappyhourfinder.com/us_wy/jackson-hole/the-rose/). To finally get the data, you will need to work with strings. str.replace() and str.split() will help you here.\n",
    "\n",
    "Your dataset in the end should look something like this: \n",
    "\n",
    "![data frame](data_frame.png)"
   ]
  },
  {
   "cell_type": "code",
   "execution_count": null,
   "metadata": {
    "collapsed": false
   },
   "outputs": [],
   "source": [
    "# Your code here\n"
   ]
  },
  {
   "cell_type": "markdown",
   "metadata": {},
   "source": [
    "### Task 1.4 Find popular days\n",
    "What day of the week is the most popular for a happy hours? Create a bar chart showing how many establishments have happy hours each day of the week. Try to explain any pattern in the chart. "
   ]
  },
  {
   "cell_type": "code",
   "execution_count": null,
   "metadata": {
    "collapsed": false
   },
   "outputs": [],
   "source": [
    "# Your code here\n"
   ]
  },
  {
   "cell_type": "markdown",
   "metadata": {},
   "source": [
    "### Task 1.5 Find popular times\n",
    "\n",
    "Plot a histogram of happy hour times during the week, and a second histogram for happy hour times on the weekend. What time of the day is the most popular for a happy hour? Is there a difference between weekdays and weekends?"
   ]
  },
  {
   "cell_type": "code",
   "execution_count": null,
   "metadata": {
    "collapsed": false
   },
   "outputs": [],
   "source": [
    "# Your code here\n"
   ]
  },
  {
   "cell_type": "markdown",
   "metadata": {},
   "source": [
    "## Part 2: Classification\n",
    "\n",
    "For this problem, you will use classification tools to predict the popularity of online news based on attributes such as the length of the article, the number of images, the day of the week that the article was published, and some variables related to the content of the article. The dataset is described on and can be downloaded from the \n",
    "[UCI Machine Learning Repository](https://archive.ics.uci.edu/ml/datasets/Online+News+Popularity). \n",
    "This dataset was first used in the following conference paper: \n",
    "\n",
    "K. Fernandes, P. Vinagre and P. Cortez. A Proactive Intelligent Decision Support System for Predicting the Popularity of Online News. *Proceedings of the 17th EPIA 2015 - Portuguese Conference on Artificial Intelligence* (2015).\n",
    "\n",
    "The dataset contains variables describing 39,644 articles published between January 7, 2013 and Januyary 7, 2015 on the news website, [Mashable](http://mashable.com/). \n",
    "There are 61 variables associated with each article. Of these, 58 are *predictor* variables, 2 are variables that we will not use (url and timedelta), and finally the number of shares of each article. The number of shares is what we will use to define whether or not the article was *popular*, which is what we will try to predict. You should read about the predictor variables in the file *OnlineNewsPopularity.names*. Further details about the collection and processing of the articles can be found in the conference paper. \n",
    "\n",
    "\n",
    "### Task 2.1 Import the data \n",
    "Use the pandas.read_csv() function to import the dataset.\n",
    "\n",
    "To use the Python library [scikit-learn](http://scikit-learn.org), we'll need to save the data as a numpy array. Use the *DataFrame.as_matrix()* command to export the predictor variables as a numpy array called *X* this array should not include our target variable (the number of shares). We don't need the url and timedelta, so let's drop these columns. \n",
    "\n",
    "Export the number of shares as a separate numpy array, called *shares*. We'll define an article to be popular if it received more shares than the median number of shares. Create a binary numpy array, *y*, which indicates whether or not each article is popular."
   ]
  },
  {
   "cell_type": "code",
   "execution_count": null,
   "metadata": {
    "collapsed": false
   },
   "outputs": [],
   "source": [
    "# imports and setup \n",
    "\n",
    "import pandas as pd\n",
    "import numpy as np\n",
    "\n",
    "from sklearn import tree, svm, metrics\n",
    "from sklearn.neighbors import KNeighborsClassifier\n",
    "from sklearn.cross_validation import train_test_split, cross_val_predict, cross_val_score, KFold\n",
    "\n",
    "import matplotlib.pyplot as plt\n",
    "%matplotlib inline\n",
    "plt.rcParams['figure.figsize'] = (10, 6)\n",
    "plt.style.use('ggplot')"
   ]
  },
  {
   "cell_type": "code",
   "execution_count": null,
   "metadata": {
    "collapsed": false,
    "scrolled": false
   },
   "outputs": [],
   "source": [
    "# Your code here\n"
   ]
  },
  {
   "cell_type": "markdown",
   "metadata": {},
   "source": [
    "### Task 2.2 Exploratory data analysis \n",
    "\n",
    "First check to see if the values are reasonable. What are the min, median, and maximum number of shares? "
   ]
  },
  {
   "cell_type": "code",
   "execution_count": null,
   "metadata": {
    "collapsed": false
   },
   "outputs": [],
   "source": [
    "# Your code here\n"
   ]
  },
  {
   "cell_type": "markdown",
   "metadata": {},
   "source": [
    "### Task 2.3 Classification using k-NN\n",
    "\n",
    "Develop a k-NN classification model the data. Use cross validation to choose the best value of k. What is the best accuracy you can obtain on the test data? "
   ]
  },
  {
   "cell_type": "code",
   "execution_count": null,
   "metadata": {
    "collapsed": false
   },
   "outputs": [],
   "source": [
    "# Your code here\n"
   ]
  },
  {
   "cell_type": "markdown",
   "metadata": {},
   "source": [
    "### Task 2.4 Classification using SVM\n",
    "\n",
    "Develop a support vector machine classification model for the data.\n",
    "\n",
    "*Hint:* SVM is more computationally expensive, so you might want to start by using only a fraction of the data, say 5,000 articles. "
   ]
  },
  {
   "cell_type": "code",
   "execution_count": null,
   "metadata": {
    "collapsed": false
   },
   "outputs": [],
   "source": [
    "# Your code here\n"
   ]
  },
  {
   "cell_type": "markdown",
   "metadata": {},
   "source": [
    "### Task 2.5 Classification using decision trees\n",
    "\n",
    "Develop a decision tree machine classification model for the data. Use cross validation to choose good values of the max tree depth (*max_depth*) and minimum samples split (*min_samples_split*). "
   ]
  },
  {
   "cell_type": "code",
   "execution_count": null,
   "metadata": {
    "collapsed": false
   },
   "outputs": [],
   "source": [
    "# Your code here\n"
   ]
  },
  {
   "cell_type": "markdown",
   "metadata": {},
   "source": [
    "### Task 2.6 Describe your findings\n",
    "1. Which method (k-NN, SVM, Decision Tree) worked best?\n",
    "+ How did different parameters influence the accuracy?\n",
    "+  Which model is easiest do interpret?\n",
    "+ How would you interpret your results?\n"
   ]
  },
  {
   "cell_type": "markdown",
   "metadata": {},
   "source": [
    "**Your Solution:** TODO\n",
    "1. \n",
    "+ \n",
    "+ \n",
    "+ "
   ]
  }
 ],
 "metadata": {
  "anaconda-cloud": {},
  "kernelspec": {
   "display_name": "Python [Root]",
   "language": "python",
   "name": "Python [Root]"
  },
  "language_info": {
   "codemirror_mode": {
    "name": "ipython",
    "version": 3
   },
   "file_extension": ".py",
   "mimetype": "text/x-python",
   "name": "python",
   "nbconvert_exporter": "python",
   "pygments_lexer": "ipython3",
   "version": "3.5.2"
  }
 },
 "nbformat": 4,
 "nbformat_minor": 0
}
